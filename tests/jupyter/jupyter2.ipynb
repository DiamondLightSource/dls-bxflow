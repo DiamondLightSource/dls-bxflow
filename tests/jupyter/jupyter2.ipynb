{
 "cells": [
  {
   "cell_type": "code",
   "execution_count": 1,
   "id": "500d13a8",
   "metadata": {},
   "outputs": [],
   "source": [
    "import logging\n",
    "logger = logging.getLogger(\"\")\n",
    "logging.basicConfig(format='%(levelname)s:%(message)s', level=logging.DEBUG)\n"
   ]
  },
  {
   "cell_type": "code",
   "execution_count": null,
   "id": "135bf316",
   "metadata": {},
   "outputs": [],
   "source": [
    "logger.debug(\"starting\")"
   ]
  },
  {
   "cell_type": "code",
   "execution_count": null,
   "id": "7aeecef2",
   "metadata": {},
   "outputs": [],
   "source": [
    "# code put here at runtime\n",
    "SOME_EXECUTION_SUMMARY_TEXT = \"replaced at runtime\""
   ]
  },
  {
   "cell_type": "code",
   "execution_count": null,
   "id": "14f16727",
   "metadata": {},
   "outputs": [],
   "source": [
    "# Import the class which takes care of storing execution summary information.\n",
    "from dls_bxflow_run.bx_tasks.execution_summary import ExecutionSummary\n",
    "\n",
    "# Write some execution summary raw text.\n",
    "ExecutionSummary.append_raw(SOME_EXECUTION_SUMMARY_TEXT)"
   ]
  },
  {
   "cell_type": "code",
   "execution_count": null,
   "id": "7bee2268",
   "metadata": {},
   "outputs": [],
   "source": [
    "logger.debug(\"finished\")"
   ]
  }
 ],
 "metadata": {
  "interpreter": {
   "hash": "b0da30b48cde19f294958e6b6ece8d1adf792283a6fcdd72a9ecfffe90973a93"
  },
  "kernelspec": {
   "display_name": "Python 3.10.4 64-bit",
   "language": "python",
   "name": "python3"
  },
  "language_info": {
   "codemirror_mode": {
    "name": "ipython",
    "version": 3
   },
   "file_extension": ".py",
   "mimetype": "text/x-python",
   "name": "python",
   "nbconvert_exporter": "python",
   "pygments_lexer": "ipython3",
   "version": "3.10.4"
  }
 },
 "nbformat": 4,
 "nbformat_minor": 5
}
